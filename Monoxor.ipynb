{
 "cells": [
  {
   "cell_type": "code",
   "execution_count": 17,
   "metadata": {},
   "outputs": [],
   "source": [
    "# Importing all necessary libraries\n",
    "import pandas as pd\n",
    "import numpy as np\n",
    "import json\n",
    "import matplotlib.pyplot as plt\n",
    "import nltk\n",
    "from nltk.sentiment.vader import SentimentIntensityAnalyzer\n",
    "from textblob import TextBlob\n",
    "from sklearn.model_selection import train_test_split\n",
    "from sklearn.ensemble import RandomForestClassifier\n",
    "from sklearn.model_selection import GridSearchCV\n",
    "import pickle\n",
    "import os"
   ]
  },
  {
   "cell_type": "code",
   "execution_count": 18,
   "metadata": {},
   "outputs": [],
   "source": [
    "# Setting Working Directory\n",
    "os.chdir('D:')\n",
    "# Making pandas to show all columns of dataframe\n",
    "pd.set_option('display.max_columns', None)"
   ]
  },
  {
   "cell_type": "code",
   "execution_count": 19,
   "metadata": {},
   "outputs": [],
   "source": [
    "with open('D:\\Monoxo.json', 'r') as f:\n",
    "    data = json.load(f)"
   ]
  },
  {
   "cell_type": "code",
   "execution_count": 20,
   "metadata": {},
   "outputs": [
    {
     "data": {
      "text/html": [
       "<div>\n",
       "<style scoped>\n",
       "    .dataframe tbody tr th:only-of-type {\n",
       "        vertical-align: middle;\n",
       "    }\n",
       "\n",
       "    .dataframe tbody tr th {\n",
       "        vertical-align: top;\n",
       "    }\n",
       "\n",
       "    .dataframe thead th {\n",
       "        text-align: right;\n",
       "    }\n",
       "</style>\n",
       "<table border=\"1\" class=\"dataframe\">\n",
       "  <thead>\n",
       "    <tr style=\"text-align: right;\">\n",
       "      <th></th>\n",
       "      <th>url</th>\n",
       "      <th>title</th>\n",
       "      <th>description</th>\n",
       "      <th>fresh</th>\n",
       "      <th>host</th>\n",
       "      <th>user_agent</th>\n",
       "      <th>content_type</th>\n",
       "      <th>org_id</th>\n",
       "      <th>user_session_id</th>\n",
       "      <th>user_name</th>\n",
       "      <th>user_role</th>\n",
       "      <th>host_name</th>\n",
       "      <th>ip_address</th>\n",
       "      <th>protocol</th>\n",
       "      <th>OriginalUrl</th>\n",
       "      <th>secure</th>\n",
       "      <th>stale</th>\n",
       "      <th>xhr</th>\n",
       "      <th>isSafe</th>\n",
       "      <th>content_length</th>\n",
       "      <th>org_id</th>\n",
       "      <th>user_session_id</th>\n",
       "    </tr>\n",
       "  </thead>\n",
       "  <tbody>\n",
       "    <tr>\n",
       "      <th>0</th>\n",
       "      <td>/crm/note</td>\n",
       "      <td>Tina Johnson</td>\n",
       "      <td>Top recognize eat. Fact whom spend area thing ...</td>\n",
       "      <td>False</td>\n",
       "      <td>example.com</td>\n",
       "      <td>insomnia/2020.4.2</td>\n",
       "      <td>application/json</td>\n",
       "      <td>5f572820f65af8ac955b2e83</td>\n",
       "      <td>5fb27d3750b11901a35649fe</td>\n",
       "      <td>sam</td>\n",
       "      <td>sales1</td>\n",
       "      <td>example.com</td>\n",
       "      <td>::ffff:117.99.96.244</td>\n",
       "      <td>http</td>\n",
       "      <td>/crm/note</td>\n",
       "      <td>False</td>\n",
       "      <td>True</td>\n",
       "      <td>False</td>\n",
       "      <td>True</td>\n",
       "      <td>70</td>\n",
       "      <td>5f572820f65af8ac955b2e83</td>\n",
       "      <td>5fb27d3750b11901a35649fe</td>\n",
       "    </tr>\n",
       "    <tr>\n",
       "      <th>1</th>\n",
       "      <td>/crm/note</td>\n",
       "      <td>Clayton Cooper</td>\n",
       "      <td>As possible American many prepare four strong....</td>\n",
       "      <td>False</td>\n",
       "      <td>example.com</td>\n",
       "      <td>insomnia/2020.4.2</td>\n",
       "      <td>application/json</td>\n",
       "      <td>5f572820f65af8ac955b2e83</td>\n",
       "      <td>5fb27d3750b11901a35649fe</td>\n",
       "      <td>sam</td>\n",
       "      <td>sales1</td>\n",
       "      <td>example.com</td>\n",
       "      <td>::ffff:117.99.96.244</td>\n",
       "      <td>http</td>\n",
       "      <td>/crm/note</td>\n",
       "      <td>False</td>\n",
       "      <td>True</td>\n",
       "      <td>False</td>\n",
       "      <td>True</td>\n",
       "      <td>70</td>\n",
       "      <td>5f572820f65af8ac955b2e83</td>\n",
       "      <td>5fb27d3750b11901a35649fe</td>\n",
       "    </tr>\n",
       "    <tr>\n",
       "      <th>2</th>\n",
       "      <td>/crm/note</td>\n",
       "      <td>Curtis Wolfe</td>\n",
       "      <td>Tuesday Notes or 2 like 2 XSP Class</td>\n",
       "      <td>False</td>\n",
       "      <td>example.com</td>\n",
       "      <td>insomnia/2020.4.2</td>\n",
       "      <td>application/json</td>\n",
       "      <td>5f572820f65af8ac955b2e83</td>\n",
       "      <td>5fb27d3750b11901a35649fe</td>\n",
       "      <td>sam</td>\n",
       "      <td>sales1</td>\n",
       "      <td>example.com</td>\n",
       "      <td>::ffff:117.99.96.244</td>\n",
       "      <td>http</td>\n",
       "      <td>/crm/note</td>\n",
       "      <td>False</td>\n",
       "      <td>True</td>\n",
       "      <td>False</td>\n",
       "      <td>False</td>\n",
       "      <td>70</td>\n",
       "      <td>5f572820f65af8ac955b2e83</td>\n",
       "      <td>5fb27d3750b11901a35649fe</td>\n",
       "    </tr>\n",
       "    <tr>\n",
       "      <th>3</th>\n",
       "      <td>/crm/note</td>\n",
       "      <td>Laura Fisher</td>\n",
       "      <td>State third represent energy campaign not forg...</td>\n",
       "      <td>False</td>\n",
       "      <td>example.com</td>\n",
       "      <td>insomnia/2020.4.2</td>\n",
       "      <td>application/json</td>\n",
       "      <td>5f572820f65af8ac955b2e83</td>\n",
       "      <td>5fb27d3750b11901a35649fe</td>\n",
       "      <td>sam</td>\n",
       "      <td>sales1</td>\n",
       "      <td>example.com</td>\n",
       "      <td>::ffff:117.99.96.244</td>\n",
       "      <td>http</td>\n",
       "      <td>/crm/note</td>\n",
       "      <td>False</td>\n",
       "      <td>True</td>\n",
       "      <td>False</td>\n",
       "      <td>True</td>\n",
       "      <td>70</td>\n",
       "      <td>5f572820f65af8ac955b2e83</td>\n",
       "      <td>5fb27d3750b11901a35649fe</td>\n",
       "    </tr>\n",
       "    <tr>\n",
       "      <th>4</th>\n",
       "      <td>/crm/note</td>\n",
       "      <td>Tyler Santos</td>\n",
       "      <td>Us enjoy since. Time identify image position o...</td>\n",
       "      <td>False</td>\n",
       "      <td>example.com</td>\n",
       "      <td>insomnia/2020.4.2</td>\n",
       "      <td>application/json</td>\n",
       "      <td>5f572820f65af8ac955b2e83</td>\n",
       "      <td>5fb27d3750b11901a35649fe</td>\n",
       "      <td>sam</td>\n",
       "      <td>sales1</td>\n",
       "      <td>example.com</td>\n",
       "      <td>::ffff:117.99.96.244</td>\n",
       "      <td>http</td>\n",
       "      <td>/crm/note</td>\n",
       "      <td>False</td>\n",
       "      <td>True</td>\n",
       "      <td>False</td>\n",
       "      <td>False</td>\n",
       "      <td>70</td>\n",
       "      <td>5f572820f65af8ac955b2e83</td>\n",
       "      <td>5fb27d3750b11901a35649fe</td>\n",
       "    </tr>\n",
       "  </tbody>\n",
       "</table>\n",
       "</div>"
      ],
      "text/plain": [
       "         url           title  \\\n",
       "0  /crm/note    Tina Johnson   \n",
       "1  /crm/note  Clayton Cooper   \n",
       "2  /crm/note    Curtis Wolfe   \n",
       "3  /crm/note    Laura Fisher   \n",
       "4  /crm/note    Tyler Santos   \n",
       "\n",
       "                                         description  fresh         host  \\\n",
       "0  Top recognize eat. Fact whom spend area thing ...  False  example.com   \n",
       "1  As possible American many prepare four strong....  False  example.com   \n",
       "2                Tuesday Notes or 2 like 2 XSP Class  False  example.com   \n",
       "3  State third represent energy campaign not forg...  False  example.com   \n",
       "4  Us enjoy since. Time identify image position o...  False  example.com   \n",
       "\n",
       "          user_agent      content_type                    org_id  \\\n",
       "0  insomnia/2020.4.2  application/json  5f572820f65af8ac955b2e83   \n",
       "1  insomnia/2020.4.2  application/json  5f572820f65af8ac955b2e83   \n",
       "2  insomnia/2020.4.2  application/json  5f572820f65af8ac955b2e83   \n",
       "3  insomnia/2020.4.2  application/json  5f572820f65af8ac955b2e83   \n",
       "4  insomnia/2020.4.2  application/json  5f572820f65af8ac955b2e83   \n",
       "\n",
       "            user_session_id user_name user_role    host_name  \\\n",
       "0  5fb27d3750b11901a35649fe       sam    sales1  example.com   \n",
       "1  5fb27d3750b11901a35649fe       sam    sales1  example.com   \n",
       "2  5fb27d3750b11901a35649fe       sam    sales1  example.com   \n",
       "3  5fb27d3750b11901a35649fe       sam    sales1  example.com   \n",
       "4  5fb27d3750b11901a35649fe       sam    sales1  example.com   \n",
       "\n",
       "             ip_address protocol OriginalUrl  secure  stale    xhr  isSafe  \\\n",
       "0  ::ffff:117.99.96.244     http   /crm/note   False   True  False    True   \n",
       "1  ::ffff:117.99.96.244     http   /crm/note   False   True  False    True   \n",
       "2  ::ffff:117.99.96.244     http   /crm/note   False   True  False   False   \n",
       "3  ::ffff:117.99.96.244     http   /crm/note   False   True  False    True   \n",
       "4  ::ffff:117.99.96.244     http   /crm/note   False   True  False   False   \n",
       "\n",
       "  content_length                    org_id           user_session_id  \n",
       "0             70  5f572820f65af8ac955b2e83  5fb27d3750b11901a35649fe  \n",
       "1             70  5f572820f65af8ac955b2e83  5fb27d3750b11901a35649fe  \n",
       "2             70  5f572820f65af8ac955b2e83  5fb27d3750b11901a35649fe  \n",
       "3             70  5f572820f65af8ac955b2e83  5fb27d3750b11901a35649fe  \n",
       "4             70  5f572820f65af8ac955b2e83  5fb27d3750b11901a35649fe  "
      ]
     },
     "execution_count": 20,
     "metadata": {},
     "output_type": "execute_result"
    }
   ],
   "source": [
    "# Function to convert json file to dataframe\n",
    "\n",
    "\n",
    "col_names = ['url', 'title', 'description', 'fresh', 'host', 'user_agent', 'content_type', 'org_id', 'user_session_id', 'user_name', 'user_role', 'host_name',\n",
    "           'ip_address', 'protocol', 'OriginalUrl', 'secure', 'stale', 'xhr', 'isSafe', 'content_length', 'org_id', 'user_session_id']\n",
    "lis = []\n",
    "for i in range(len(data)):\n",
    "\n",
    "    value = data[i]\n",
    "    comp_data = value['req']\n",
    "    url  =comp_data['baseUrl']\n",
    "    title = comp_data['body']['note']['title']\n",
    "    description =comp_data['body']['note']['desc']\n",
    "    fresh = comp_data['fresh']\n",
    "    host = comp_data['headers']['host']\n",
    "    user_agent = comp_data['headers']['user-agent']\n",
    "    content_type = comp_data['headers']['content-type']\n",
    "    org_id = comp_data['headers']['org_id']\n",
    "    user_session_id = comp_data['headers']['user_session_id']\n",
    "    user_name = comp_data['headers']['user']['name']\n",
    "    user_role = comp_data['headers']['user']['role']\n",
    "    host_name = comp_data['hostname']\n",
    "    ip_address = comp_data['ip']\n",
    "    protocol = comp_data['protocol']\n",
    "    OriginalUrl = comp_data['originalUrl']\n",
    "    secure = comp_data['secure']\n",
    "    stale = comp_data['stale']\n",
    "    xhr = comp_data['xhr']\n",
    "    isSafe = value['isSafe']\n",
    "    content_length = comp_data['headers']['content-length']\n",
    "    org_id = comp_data['headers']['org_id']\n",
    "    session_id = comp_data['headers']['user_session_id']\n",
    "    val = (url, title, description, fresh, host, user_agent, content_type, org_id, user_session_id, user_name, user_role, host_name,\n",
    "           ip_address, protocol, OriginalUrl, secure, stale, xhr, isSafe, content_length, org_id, session_id)\n",
    "    lis.append(val)\n",
    "    df_final = pd.DataFrame(lis, columns = col_names)\n",
    "\n",
    "\n",
    "\n",
    "df_final.head()"
   ]
  },
  {
   "cell_type": "markdown",
   "metadata": {},
   "source": [
    "### EDA"
   ]
  },
  {
   "cell_type": "code",
   "execution_count": 21,
   "metadata": {},
   "outputs": [
    {
     "name": "stdout",
     "output_type": "stream",
     "text": [
      "Number of Unique values in url is 1\n",
      "Number of Unique values in title is 994\n",
      "Number of Unique values in description is 750\n",
      "Number of Unique values in fresh is 1\n",
      "Number of Unique values in host is 1\n",
      "Number of Unique values in user_agent is 1\n",
      "Number of Unique values in content_type is 1\n",
      "Number of Unique values in org_id is org_id    1\n",
      "org_id    1\n",
      "dtype: int64\n",
      "Number of Unique values in user_session_id is user_session_id    1\n",
      "user_session_id    1\n",
      "dtype: int64\n",
      "Number of Unique values in user_name is 1\n",
      "Number of Unique values in user_role is 1\n",
      "Number of Unique values in host_name is 1\n",
      "Number of Unique values in ip_address is 1\n",
      "Number of Unique values in protocol is 1\n",
      "Number of Unique values in OriginalUrl is 1\n",
      "Number of Unique values in secure is 1\n",
      "Number of Unique values in stale is 1\n",
      "Number of Unique values in xhr is 1\n",
      "Number of Unique values in isSafe is 2\n",
      "Number of Unique values in content_length is 1\n",
      "Number of Unique values in org_id is org_id    1\n",
      "org_id    1\n",
      "dtype: int64\n",
      "Number of Unique values in user_session_id is user_session_id    1\n",
      "user_session_id    1\n",
      "dtype: int64\n"
     ]
    }
   ],
   "source": [
    "#Checking the number of unique value in each column so that we can decide which column to keep and which column to delete.\n",
    "for i in df_final.columns:\n",
    "    print('Number of Unique values in {} is {}'.format(i, df_final[i].nunique()))"
   ]
  },
  {
   "cell_type": "markdown",
   "metadata": {},
   "source": [
    "### As most of the columns have only one value so they have no variance that is why they don't impart any extra knowledge to our model so we don't need these columns."
   ]
  },
  {
   "cell_type": "code",
   "execution_count": 22,
   "metadata": {},
   "outputs": [],
   "source": [
    "df = df_final.copy()"
   ]
  },
  {
   "cell_type": "code",
   "execution_count": 23,
   "metadata": {},
   "outputs": [],
   "source": [
    "# Dropping columns having number of unique values as 1\n",
    "for i in df.columns:\n",
    "    if i not in ['org_id', 'user_session_id']:\n",
    "        if int(df[i].nunique()) == 1:\n",
    "            df.drop([i], axis = 1, inplace = True)\n",
    "        else:\n",
    "            continue\n",
    "    else:\n",
    "        continue\n",
    "        \n",
    "df.drop(['org_id', 'user_session_id'], axis = 1, inplace = True)"
   ]
  },
  {
   "cell_type": "code",
   "execution_count": 24,
   "metadata": {},
   "outputs": [
    {
     "data": {
      "text/html": [
       "<div>\n",
       "<style scoped>\n",
       "    .dataframe tbody tr th:only-of-type {\n",
       "        vertical-align: middle;\n",
       "    }\n",
       "\n",
       "    .dataframe tbody tr th {\n",
       "        vertical-align: top;\n",
       "    }\n",
       "\n",
       "    .dataframe thead th {\n",
       "        text-align: right;\n",
       "    }\n",
       "</style>\n",
       "<table border=\"1\" class=\"dataframe\">\n",
       "  <thead>\n",
       "    <tr style=\"text-align: right;\">\n",
       "      <th></th>\n",
       "      <th>title</th>\n",
       "      <th>description</th>\n",
       "      <th>isSafe</th>\n",
       "    </tr>\n",
       "  </thead>\n",
       "  <tbody>\n",
       "    <tr>\n",
       "      <th>0</th>\n",
       "      <td>Tina Johnson</td>\n",
       "      <td>Top recognize eat. Fact whom spend area thing ...</td>\n",
       "      <td>True</td>\n",
       "    </tr>\n",
       "    <tr>\n",
       "      <th>1</th>\n",
       "      <td>Clayton Cooper</td>\n",
       "      <td>As possible American many prepare four strong....</td>\n",
       "      <td>True</td>\n",
       "    </tr>\n",
       "    <tr>\n",
       "      <th>2</th>\n",
       "      <td>Curtis Wolfe</td>\n",
       "      <td>Tuesday Notes or 2 like 2 XSP Class</td>\n",
       "      <td>False</td>\n",
       "    </tr>\n",
       "    <tr>\n",
       "      <th>3</th>\n",
       "      <td>Laura Fisher</td>\n",
       "      <td>State third represent energy campaign not forg...</td>\n",
       "      <td>True</td>\n",
       "    </tr>\n",
       "    <tr>\n",
       "      <th>4</th>\n",
       "      <td>Tyler Santos</td>\n",
       "      <td>Us enjoy since. Time identify image position o...</td>\n",
       "      <td>False</td>\n",
       "    </tr>\n",
       "  </tbody>\n",
       "</table>\n",
       "</div>"
      ],
      "text/plain": [
       "            title                                        description  isSafe\n",
       "0    Tina Johnson  Top recognize eat. Fact whom spend area thing ...    True\n",
       "1  Clayton Cooper  As possible American many prepare four strong....    True\n",
       "2    Curtis Wolfe                Tuesday Notes or 2 like 2 XSP Class   False\n",
       "3    Laura Fisher  State third represent energy campaign not forg...    True\n",
       "4    Tyler Santos  Us enjoy since. Time identify image position o...   False"
      ]
     },
     "execution_count": 24,
     "metadata": {},
     "output_type": "execute_result"
    }
   ],
   "source": [
    "df.head()"
   ]
  },
  {
   "cell_type": "code",
   "execution_count": 25,
   "metadata": {},
   "outputs": [
    {
     "data": {
      "text/plain": [
       "<AxesSubplot:>"
      ]
     },
     "execution_count": 25,
     "metadata": {},
     "output_type": "execute_result"
    },
    {
     "data": {
      "image/png": "[encoded data removed]",
      "text/plain": [
       "<Figure size 432x288 with 1 Axes>"
      ]
     },
     "metadata": {
      "needs_background": "light"
     },
     "output_type": "display_data"
    }
   ],
   "source": [
    "#Checking the distribution of our target variable\n",
    "df['isSafe'].value_counts().plot(kind = 'barh', )"
   ]
  },
  {
   "cell_type": "code",
   "execution_count": 26,
   "metadata": {},
   "outputs": [
    {
     "data": {
      "text/plain": [
       "True     572\n",
       "False    428\n",
       "Name: isSafe, dtype: int64"
      ]
     },
     "execution_count": 26,
     "metadata": {},
     "output_type": "execute_result"
    }
   ],
   "source": [
    "df['isSafe'].value_counts()"
   ]
  },
  {
   "cell_type": "markdown",
   "metadata": {},
   "source": [
    "### As we can see that there is not much difference in the value count of True and False values. So we can conclude that our data is balanced."
   ]
  },
  {
   "cell_type": "code",
   "execution_count": 27,
   "metadata": {},
   "outputs": [],
   "source": [
    "# Sentiment analysis of text in description\n",
    "vader = SentimentIntensityAnalyzer()\n",
    "sentiments = []\n",
    "for i in df.description:\n",
    "    sent = TextBlob(i)\n",
    "    sentiments.append(sent.sentiment)"
   ]
  },
  {
   "cell_type": "code",
   "execution_count": 28,
   "metadata": {},
   "outputs": [],
   "source": [
    "# Adding the Polarity ans Subjectivity columns to out dataframe\n",
    "polarity = []\n",
    "subjectivity = []\n",
    "for i in sentiments:\n",
    "    polarity.append(i[0])\n",
    "    subjectivity.append(i[1])\n",
    "    \n",
    "df['Polarity'] = np.array(polarity)\n",
    "df['Subjectivity'] = np.array(subjectivity)"
   ]
  },
  {
   "cell_type": "code",
   "execution_count": 29,
   "metadata": {},
   "outputs": [
    {
     "data": {
      "text/html": [
       "<div>\n",
       "<style scoped>\n",
       "    .dataframe tbody tr th:only-of-type {\n",
       "        vertical-align: middle;\n",
       "    }\n",
       "\n",
       "    .dataframe tbody tr th {\n",
       "        vertical-align: top;\n",
       "    }\n",
       "\n",
       "    .dataframe thead th {\n",
       "        text-align: right;\n",
       "    }\n",
       "</style>\n",
       "<table border=\"1\" class=\"dataframe\">\n",
       "  <thead>\n",
       "    <tr style=\"text-align: right;\">\n",
       "      <th></th>\n",
       "      <th>title</th>\n",
       "      <th>description</th>\n",
       "      <th>isSafe</th>\n",
       "      <th>Polarity</th>\n",
       "      <th>Subjectivity</th>\n",
       "    </tr>\n",
       "  </thead>\n",
       "  <tbody>\n",
       "    <tr>\n",
       "      <th>0</th>\n",
       "      <td>Tina Johnson</td>\n",
       "      <td>Top recognize eat. Fact whom spend area thing ...</td>\n",
       "      <td>True</td>\n",
       "      <td>0.106061</td>\n",
       "      <td>0.379167</td>\n",
       "    </tr>\n",
       "    <tr>\n",
       "      <th>1</th>\n",
       "      <td>Clayton Cooper</td>\n",
       "      <td>As possible American many prepare four strong....</td>\n",
       "      <td>True</td>\n",
       "      <td>0.233333</td>\n",
       "      <td>0.558333</td>\n",
       "    </tr>\n",
       "    <tr>\n",
       "      <th>2</th>\n",
       "      <td>Curtis Wolfe</td>\n",
       "      <td>Tuesday Notes or 2 like 2 XSP Class</td>\n",
       "      <td>False</td>\n",
       "      <td>0.000000</td>\n",
       "      <td>0.000000</td>\n",
       "    </tr>\n",
       "    <tr>\n",
       "      <th>3</th>\n",
       "      <td>Laura Fisher</td>\n",
       "      <td>State third represent energy campaign not forg...</td>\n",
       "      <td>True</td>\n",
       "      <td>-0.025000</td>\n",
       "      <td>0.325000</td>\n",
       "    </tr>\n",
       "    <tr>\n",
       "      <th>4</th>\n",
       "      <td>Tyler Santos</td>\n",
       "      <td>Us enjoy since. Time identify image position o...</td>\n",
       "      <td>False</td>\n",
       "      <td>0.540000</td>\n",
       "      <td>0.440000</td>\n",
       "    </tr>\n",
       "  </tbody>\n",
       "</table>\n",
       "</div>"
      ],
      "text/plain": [
       "            title                                        description  isSafe  \\\n",
       "0    Tina Johnson  Top recognize eat. Fact whom spend area thing ...    True   \n",
       "1  Clayton Cooper  As possible American many prepare four strong....    True   \n",
       "2    Curtis Wolfe                Tuesday Notes or 2 like 2 XSP Class   False   \n",
       "3    Laura Fisher  State third represent energy campaign not forg...    True   \n",
       "4    Tyler Santos  Us enjoy since. Time identify image position o...   False   \n",
       "\n",
       "   Polarity  Subjectivity  \n",
       "0  0.106061      0.379167  \n",
       "1  0.233333      0.558333  \n",
       "2  0.000000      0.000000  \n",
       "3 -0.025000      0.325000  \n",
       "4  0.540000      0.440000  "
      ]
     },
     "execution_count": 29,
     "metadata": {},
     "output_type": "execute_result"
    }
   ],
   "source": [
    "df.head()"
   ]
  },
  {
   "cell_type": "code",
   "execution_count": 30,
   "metadata": {},
   "outputs": [
    {
     "data": {
      "text/plain": [
       "99.4"
      ]
     },
     "execution_count": 30,
     "metadata": {},
     "output_type": "execute_result"
    }
   ],
   "source": [
    "# Checking what percentage of values in title are unique\n",
    "df['title'].nunique()*100/len(df)"
   ]
  },
  {
   "cell_type": "markdown",
   "metadata": {},
   "source": [
    "### As almost all the values in title category are different so we will not include it in our final model as this will confuse the model."
   ]
  },
  {
   "cell_type": "code",
   "execution_count": 31,
   "metadata": {},
   "outputs": [],
   "source": [
    "df.drop(['title'], axis = 1, inplace = True)"
   ]
  },
  {
   "cell_type": "code",
   "execution_count": 32,
   "metadata": {},
   "outputs": [
    {
     "data": {
      "text/html": [
       "<div>\n",
       "<style scoped>\n",
       "    .dataframe tbody tr th:only-of-type {\n",
       "        vertical-align: middle;\n",
       "    }\n",
       "\n",
       "    .dataframe tbody tr th {\n",
       "        vertical-align: top;\n",
       "    }\n",
       "\n",
       "    .dataframe thead th {\n",
       "        text-align: right;\n",
       "    }\n",
       "</style>\n",
       "<table border=\"1\" class=\"dataframe\">\n",
       "  <thead>\n",
       "    <tr style=\"text-align: right;\">\n",
       "      <th></th>\n",
       "      <th>description</th>\n",
       "      <th>isSafe</th>\n",
       "      <th>Polarity</th>\n",
       "      <th>Subjectivity</th>\n",
       "    </tr>\n",
       "  </thead>\n",
       "  <tbody>\n",
       "    <tr>\n",
       "      <th>0</th>\n",
       "      <td>Top recognize eat. Fact whom spend area thing ...</td>\n",
       "      <td>True</td>\n",
       "      <td>0.106061</td>\n",
       "      <td>0.379167</td>\n",
       "    </tr>\n",
       "    <tr>\n",
       "      <th>1</th>\n",
       "      <td>As possible American many prepare four strong....</td>\n",
       "      <td>True</td>\n",
       "      <td>0.233333</td>\n",
       "      <td>0.558333</td>\n",
       "    </tr>\n",
       "    <tr>\n",
       "      <th>2</th>\n",
       "      <td>Tuesday Notes or 2 like 2 XSP Class</td>\n",
       "      <td>False</td>\n",
       "      <td>0.000000</td>\n",
       "      <td>0.000000</td>\n",
       "    </tr>\n",
       "    <tr>\n",
       "      <th>3</th>\n",
       "      <td>State third represent energy campaign not forg...</td>\n",
       "      <td>True</td>\n",
       "      <td>-0.025000</td>\n",
       "      <td>0.325000</td>\n",
       "    </tr>\n",
       "    <tr>\n",
       "      <th>4</th>\n",
       "      <td>Us enjoy since. Time identify image position o...</td>\n",
       "      <td>False</td>\n",
       "      <td>0.540000</td>\n",
       "      <td>0.440000</td>\n",
       "    </tr>\n",
       "  </tbody>\n",
       "</table>\n",
       "</div>"
      ],
      "text/plain": [
       "                                         description  isSafe  Polarity  \\\n",
       "0  Top recognize eat. Fact whom spend area thing ...    True  0.106061   \n",
       "1  As possible American many prepare four strong....    True  0.233333   \n",
       "2                Tuesday Notes or 2 like 2 XSP Class   False  0.000000   \n",
       "3  State third represent energy campaign not forg...    True -0.025000   \n",
       "4  Us enjoy since. Time identify image position o...   False  0.540000   \n",
       "\n",
       "   Subjectivity  \n",
       "0      0.379167  \n",
       "1      0.558333  \n",
       "2      0.000000  \n",
       "3      0.325000  \n",
       "4      0.440000  "
      ]
     },
     "execution_count": 32,
     "metadata": {},
     "output_type": "execute_result"
    }
   ],
   "source": [
    "df.head()"
   ]
  },
  {
   "cell_type": "code",
   "execution_count": 33,
   "metadata": {},
   "outputs": [],
   "source": [
    "df = pd.get_dummies(df, columns = ['isSafe'], drop_first = True)"
   ]
  },
  {
   "cell_type": "code",
   "execution_count": 34,
   "metadata": {},
   "outputs": [
    {
     "data": {
      "text/html": [
       "<div>\n",
       "<style scoped>\n",
       "    .dataframe tbody tr th:only-of-type {\n",
       "        vertical-align: middle;\n",
       "    }\n",
       "\n",
       "    .dataframe tbody tr th {\n",
       "        vertical-align: top;\n",
       "    }\n",
       "\n",
       "    .dataframe thead th {\n",
       "        text-align: right;\n",
       "    }\n",
       "</style>\n",
       "<table border=\"1\" class=\"dataframe\">\n",
       "  <thead>\n",
       "    <tr style=\"text-align: right;\">\n",
       "      <th></th>\n",
       "      <th>description</th>\n",
       "      <th>Polarity</th>\n",
       "      <th>Subjectivity</th>\n",
       "      <th>isSafe_True</th>\n",
       "    </tr>\n",
       "  </thead>\n",
       "  <tbody>\n",
       "    <tr>\n",
       "      <th>0</th>\n",
       "      <td>Top recognize eat. Fact whom spend area thing ...</td>\n",
       "      <td>0.106061</td>\n",
       "      <td>0.379167</td>\n",
       "      <td>1</td>\n",
       "    </tr>\n",
       "    <tr>\n",
       "      <th>1</th>\n",
       "      <td>As possible American many prepare four strong....</td>\n",
       "      <td>0.233333</td>\n",
       "      <td>0.558333</td>\n",
       "      <td>1</td>\n",
       "    </tr>\n",
       "    <tr>\n",
       "      <th>2</th>\n",
       "      <td>Tuesday Notes or 2 like 2 XSP Class</td>\n",
       "      <td>0.000000</td>\n",
       "      <td>0.000000</td>\n",
       "      <td>0</td>\n",
       "    </tr>\n",
       "    <tr>\n",
       "      <th>3</th>\n",
       "      <td>State third represent energy campaign not forg...</td>\n",
       "      <td>-0.025000</td>\n",
       "      <td>0.325000</td>\n",
       "      <td>1</td>\n",
       "    </tr>\n",
       "    <tr>\n",
       "      <th>4</th>\n",
       "      <td>Us enjoy since. Time identify image position o...</td>\n",
       "      <td>0.540000</td>\n",
       "      <td>0.440000</td>\n",
       "      <td>0</td>\n",
       "    </tr>\n",
       "    <tr>\n",
       "      <th>...</th>\n",
       "      <td>...</td>\n",
       "      <td>...</td>\n",
       "      <td>...</td>\n",
       "      <td>...</td>\n",
       "    </tr>\n",
       "    <tr>\n",
       "      <th>995</th>\n",
       "      <td>Recently crime before five thought bit. Card f...</td>\n",
       "      <td>0.000000</td>\n",
       "      <td>0.083333</td>\n",
       "      <td>1</td>\n",
       "    </tr>\n",
       "    <tr>\n",
       "      <th>996</th>\n",
       "      <td>&lt;img src=1 href=1 onerror=\"javascript:alert(1)...</td>\n",
       "      <td>0.000000</td>\n",
       "      <td>0.000000</td>\n",
       "      <td>0</td>\n",
       "    </tr>\n",
       "    <tr>\n",
       "      <th>997</th>\n",
       "      <td>Set nature they then low resource truth. Edge ...</td>\n",
       "      <td>0.016667</td>\n",
       "      <td>0.275000</td>\n",
       "      <td>1</td>\n",
       "    </tr>\n",
       "    <tr>\n",
       "      <th>998</th>\n",
       "      <td>Push case them such face suffer. Letter middle...</td>\n",
       "      <td>0.000000</td>\n",
       "      <td>0.200000</td>\n",
       "      <td>1</td>\n",
       "    </tr>\n",
       "    <tr>\n",
       "      <th>999</th>\n",
       "      <td>Family ready stay rule full than yet. Moment o...</td>\n",
       "      <td>0.050000</td>\n",
       "      <td>0.583333</td>\n",
       "      <td>1</td>\n",
       "    </tr>\n",
       "  </tbody>\n",
       "</table>\n",
       "<p>1000 rows × 4 columns</p>\n",
       "</div>"
      ],
      "text/plain": [
       "                                           description  Polarity  \\\n",
       "0    Top recognize eat. Fact whom spend area thing ...  0.106061   \n",
       "1    As possible American many prepare four strong....  0.233333   \n",
       "2                  Tuesday Notes or 2 like 2 XSP Class  0.000000   \n",
       "3    State third represent energy campaign not forg... -0.025000   \n",
       "4    Us enjoy since. Time identify image position o...  0.540000   \n",
       "..                                                 ...       ...   \n",
       "995  Recently crime before five thought bit. Card f...  0.000000   \n",
       "996  <img src=1 href=1 onerror=\"javascript:alert(1)...  0.000000   \n",
       "997  Set nature they then low resource truth. Edge ...  0.016667   \n",
       "998  Push case them such face suffer. Letter middle...  0.000000   \n",
       "999  Family ready stay rule full than yet. Moment o...  0.050000   \n",
       "\n",
       "     Subjectivity  isSafe_True  \n",
       "0        0.379167            1  \n",
       "1        0.558333            1  \n",
       "2        0.000000            0  \n",
       "3        0.325000            1  \n",
       "4        0.440000            0  \n",
       "..            ...          ...  \n",
       "995      0.083333            1  \n",
       "996      0.000000            0  \n",
       "997      0.275000            1  \n",
       "998      0.200000            1  \n",
       "999      0.583333            1  \n",
       "\n",
       "[1000 rows x 4 columns]"
      ]
     },
     "execution_count": 34,
     "metadata": {},
     "output_type": "execute_result"
    }
   ],
   "source": [
    "df"
   ]
  },
  {
   "cell_type": "markdown",
   "metadata": {},
   "source": [
    "### As we have extracted sentiments from the description data, we don't need description any more."
   ]
  },
  {
   "cell_type": "code",
   "execution_count": 35,
   "metadata": {},
   "outputs": [],
   "source": [
    "df.drop(['description'], axis = 1, inplace = True)"
   ]
  },
  {
   "cell_type": "code",
   "execution_count": 36,
   "metadata": {},
   "outputs": [
    {
     "data": {
      "text/html": [
       "<div>\n",
       "<style scoped>\n",
       "    .dataframe tbody tr th:only-of-type {\n",
       "        vertical-align: middle;\n",
       "    }\n",
       "\n",
       "    .dataframe tbody tr th {\n",
       "        vertical-align: top;\n",
       "    }\n",
       "\n",
       "    .dataframe thead th {\n",
       "        text-align: right;\n",
       "    }\n",
       "</style>\n",
       "<table border=\"1\" class=\"dataframe\">\n",
       "  <thead>\n",
       "    <tr style=\"text-align: right;\">\n",
       "      <th></th>\n",
       "      <th>Polarity</th>\n",
       "      <th>Subjectivity</th>\n",
       "      <th>isSafe_True</th>\n",
       "    </tr>\n",
       "  </thead>\n",
       "  <tbody>\n",
       "    <tr>\n",
       "      <th>0</th>\n",
       "      <td>0.106061</td>\n",
       "      <td>0.379167</td>\n",
       "      <td>1</td>\n",
       "    </tr>\n",
       "    <tr>\n",
       "      <th>1</th>\n",
       "      <td>0.233333</td>\n",
       "      <td>0.558333</td>\n",
       "      <td>1</td>\n",
       "    </tr>\n",
       "    <tr>\n",
       "      <th>2</th>\n",
       "      <td>0.000000</td>\n",
       "      <td>0.000000</td>\n",
       "      <td>0</td>\n",
       "    </tr>\n",
       "    <tr>\n",
       "      <th>3</th>\n",
       "      <td>-0.025000</td>\n",
       "      <td>0.325000</td>\n",
       "      <td>1</td>\n",
       "    </tr>\n",
       "    <tr>\n",
       "      <th>4</th>\n",
       "      <td>0.540000</td>\n",
       "      <td>0.440000</td>\n",
       "      <td>0</td>\n",
       "    </tr>\n",
       "  </tbody>\n",
       "</table>\n",
       "</div>"
      ],
      "text/plain": [
       "   Polarity  Subjectivity  isSafe_True\n",
       "0  0.106061      0.379167            1\n",
       "1  0.233333      0.558333            1\n",
       "2  0.000000      0.000000            0\n",
       "3 -0.025000      0.325000            1\n",
       "4  0.540000      0.440000            0"
      ]
     },
     "execution_count": 36,
     "metadata": {},
     "output_type": "execute_result"
    }
   ],
   "source": [
    "df.head()"
   ]
  },
  {
   "cell_type": "code",
   "execution_count": 37,
   "metadata": {},
   "outputs": [],
   "source": [
    "X = df.drop(['isSafe_True'], axis = 1)\n",
    "y = df['isSafe_True']"
   ]
  },
  {
   "cell_type": "markdown",
   "metadata": {},
   "source": [
    "### Model Training"
   ]
  },
  {
   "cell_type": "code",
   "execution_count": 38,
   "metadata": {},
   "outputs": [],
   "source": [
    "# Doing the Train Test Split\n",
    "X_train, X_test, y_train, y_test = train_test_split(X, y, test_size = 0.2, random_state = 0, stratify = y)"
   ]
  },
  {
   "cell_type": "markdown",
   "metadata": {},
   "source": [
    "### Random Forest Classifier"
   ]
  },
  {
   "cell_type": "code",
   "execution_count": 39,
   "metadata": {},
   "outputs": [],
   "source": [
    "n_estimators = [int(x) for x in np.linspace(start = 10, stop = 100, num = 50)]\n",
    "\n",
    "max_features = ['auto', 'sqrt']\n",
    "\n",
    "max_depth = [2, 10]\n",
    "\n",
    "min_samples_split = [2, 5]\n",
    "\n",
    "bootstrap = [True, False]"
   ]
  },
  {
   "cell_type": "code",
   "execution_count": 40,
   "metadata": {},
   "outputs": [],
   "source": [
    "param_grid = {'n_estimators' : n_estimators,\n",
    "             'max_features' : max_features,\n",
    "             'max_depth' : max_depth,\n",
    "             'min_samples_split' : min_samples_split,\n",
    "             'bootstrap' : bootstrap}"
   ]
  },
  {
   "cell_type": "code",
   "execution_count": 41,
   "metadata": {},
   "outputs": [],
   "source": [
    "rf = RandomForestClassifier()"
   ]
  },
  {
   "cell_type": "code",
   "execution_count": 42,
   "metadata": {},
   "outputs": [],
   "source": [
    "# Performing Hyperparameter Optimization\n",
    "rf_grid = GridSearchCV(estimator = rf, param_grid = param_grid, cv = 5, verbose = 2, n_jobs = -1)"
   ]
  },
  {
   "cell_type": "code",
   "execution_count": 43,
   "metadata": {},
   "outputs": [
    {
     "name": "stdout",
     "output_type": "stream",
     "text": [
      "Fitting 5 folds for each of 800 candidates, totalling 4000 fits\n"
     ]
    },
    {
     "data": {
      "text/plain": [
       "GridSearchCV(cv=5, estimator=RandomForestClassifier(), n_jobs=-1,\n",
       "             param_grid={'bootstrap': [True, False], 'max_depth': [2, 10],\n",
       "                         'max_features': ['auto', 'sqrt'],\n",
       "                         'min_samples_split': [2, 5],\n",
       "                         'n_estimators': [10, 11, 13, 15, 17, 19, 21, 22, 24,\n",
       "                                          26, 28, 30, 32, 33, 35, 37, 39, 41,\n",
       "                                          43, 44, 46, 48, 50, 52, 54, 55, 57,\n",
       "                                          59, 61, 63, ...]},\n",
       "             verbose=2)"
      ]
     },
     "execution_count": 43,
     "metadata": {},
     "output_type": "execute_result"
    }
   ],
   "source": [
    "rf_grid.fit(X_train, y_train)"
   ]
  },
  {
   "cell_type": "code",
   "execution_count": 44,
   "metadata": {},
   "outputs": [
    {
     "data": {
      "text/plain": [
       "{'bootstrap': False,\n",
       " 'max_depth': 2,\n",
       " 'max_features': 'sqrt',\n",
       " 'min_samples_split': 2,\n",
       " 'n_estimators': 15}"
      ]
     },
     "execution_count": 44,
     "metadata": {},
     "output_type": "execute_result"
    }
   ],
   "source": [
    "rf_grid.best_params_"
   ]
  },
  {
   "cell_type": "code",
   "execution_count": 45,
   "metadata": {},
   "outputs": [
    {
     "name": "stdout",
     "output_type": "stream",
     "text": [
      "Train Accuracy with Hyperparameter Optimizarion is is 0.79625\n",
      "Test Accuracy with Hyperparameter Optimizarion is is 0.87\n"
     ]
    }
   ],
   "source": [
    "print('Train Accuracy of Random Forest with Hyperparameter Optimizarion is is {}'.format(rf_grid.score(X_train, y_train)))\n",
    "\n",
    "print('Test Accuracy of Random Forest with Hyperparameter Optimizarion is is {}'.format(rf_grid.score(X_test, y_test)))"
   ]
  },
  {
   "cell_type": "code",
   "execution_count": 46,
   "metadata": {},
   "outputs": [
    {
     "data": {
      "text/plain": [
       "RandomForestClassifier()"
      ]
     },
     "execution_count": 46,
     "metadata": {},
     "output_type": "execute_result"
    }
   ],
   "source": [
    "rf.fit(X_train, y_train)"
   ]
  },
  {
   "cell_type": "code",
   "execution_count": 51,
   "metadata": {},
   "outputs": [],
   "source": [
    "from sklearn.metrics import confusion_matrix"
   ]
  },
  {
   "cell_type": "code",
   "execution_count": 52,
   "metadata": {},
   "outputs": [],
   "source": [
    "pred = rf_grid.predict(X_test)"
   ]
  },
  {
   "cell_type": "code",
   "execution_count": 53,
   "metadata": {},
   "outputs": [
    {
     "data": {
      "text/plain": [
       "array([[ 62,  24],\n",
       "       [  2, 112]], dtype=int64)"
      ]
     },
     "execution_count": 53,
     "metadata": {},
     "output_type": "execute_result"
    }
   ],
   "source": [
    "confusion_matrix(y_test, pred)"
   ]
  },
  {
   "cell_type": "markdown",
   "metadata": {},
   "source": [
    "### Logistic Regression"
   ]
  },
  {
   "cell_type": "code",
   "execution_count": 54,
   "metadata": {},
   "outputs": [],
   "source": [
    "from sklearn.linear_model import LogisticRegression"
   ]
  },
  {
   "cell_type": "code",
   "execution_count": 72,
   "metadata": {},
   "outputs": [],
   "source": [
    "clf = LogisticRegression()"
   ]
  },
  {
   "cell_type": "code",
   "execution_count": 73,
   "metadata": {},
   "outputs": [],
   "source": [
    "param_grid_logistic ={'penalty' : ['l1', 'l2'], 'C' : np.logspace(-4, 4, 20), 'solver' : ['newton-cg', 'lbfgs', 'liblinear', 'sag', 'saga']}\n",
    "\n",
    "\n",
    "clf_grid = GridSearchCV(estimator = clf, param_grid = param_grid_logistic, cv = 5, verbose=True, n_jobs=-1)"
   ]
  },
  {
   "cell_type": "code",
   "execution_count": 74,
   "metadata": {},
   "outputs": [
    {
     "name": "stdout",
     "output_type": "stream",
     "text": [
      "Fitting 5 folds for each of 200 candidates, totalling 1000 fits\n"
     ]
    },
    {
     "name": "stderr",
     "output_type": "stream",
     "text": [
      "c:\\users\\chhav\\anaconda3\\envs\\deeplearning\\lib\\site-packages\\sklearn\\model_selection\\_search.py:921: UserWarning: One or more of the test scores are non-finite: [    nan     nan 0.4275      nan 0.5725  0.5725  0.5725  0.5725  0.5725\n",
      " 0.5725      nan     nan 0.4275      nan 0.545   0.5725  0.5725  0.5725\n",
      " 0.5725  0.5725      nan     nan 0.4275      nan 0.5725  0.5725  0.5725\n",
      " 0.5725  0.5725  0.5725      nan     nan 0.4275      nan 0.5725  0.5725\n",
      " 0.5725  0.5725  0.5725  0.5725      nan     nan 0.4275      nan 0.5425\n",
      " 0.5725  0.5725  0.5725  0.5725  0.5725      nan     nan 0.4275      nan\n",
      " 0.5725  0.5725  0.5725  0.5725  0.5725  0.5725      nan     nan 0.7675\n",
      "     nan 0.5725  0.5725  0.5725  0.57375 0.5725  0.5725      nan     nan\n",
      " 0.76375     nan 0.7475  0.75125 0.75125 0.7525  0.75125 0.75125     nan\n",
      "     nan 0.75625     nan 0.75125 0.73875 0.73875 0.745   0.73875 0.73875\n",
      "     nan     nan 0.75375     nan 0.75375 0.7525  0.7525  0.755   0.75125\n",
      " 0.7525      nan     nan 0.75125     nan 0.74625 0.75125 0.75125 0.75375\n",
      " 0.75125 0.75125     nan     nan 0.74375     nan 0.7425  0.7475  0.7475\n",
      " 0.7475  0.7475  0.7475      nan     nan 0.7425      nan 0.73875 0.74375\n",
      " 0.74375 0.74375 0.74375 0.74375     nan     nan 0.73875     nan 0.73875\n",
      " 0.73875 0.73875 0.74    0.73875 0.73875     nan     nan 0.73875     nan\n",
      " 0.73875 0.73875 0.73875 0.73875 0.73875 0.73875     nan     nan 0.73875\n",
      "     nan 0.73875 0.73875 0.73875 0.73875 0.73875 0.73875     nan     nan\n",
      " 0.73875     nan 0.73875 0.73875 0.73875 0.73875 0.73875 0.73875     nan\n",
      "     nan 0.73875     nan 0.73875 0.73875 0.73875 0.73875 0.73875 0.73875\n",
      "     nan     nan 0.73875     nan 0.73875 0.73875 0.73875 0.73875 0.73875\n",
      " 0.73875     nan     nan 0.73875     nan 0.73875 0.73875 0.73875 0.73875\n",
      " 0.73875 0.73875]\n",
      "  category=UserWarning\n"
     ]
    },
    {
     "data": {
      "text/plain": [
       "GridSearchCV(cv=5, estimator=LogisticRegression(), n_jobs=-1,\n",
       "             param_grid={'C': array([1.00000000e-04, 2.63665090e-04, 6.95192796e-04, 1.83298071e-03,\n",
       "       4.83293024e-03, 1.27427499e-02, 3.35981829e-02, 8.85866790e-02,\n",
       "       2.33572147e-01, 6.15848211e-01, 1.62377674e+00, 4.28133240e+00,\n",
       "       1.12883789e+01, 2.97635144e+01, 7.84759970e+01, 2.06913808e+02,\n",
       "       5.45559478e+02, 1.43844989e+03, 3.79269019e+03, 1.00000000e+04]),\n",
       "                         'penalty': ['l1', 'l2'],\n",
       "                         'solver': ['newton-cg', 'lbfgs', 'liblinear', 'sag',\n",
       "                                    'saga']},\n",
       "             verbose=True)"
      ]
     },
     "execution_count": 74,
     "metadata": {},
     "output_type": "execute_result"
    }
   ],
   "source": [
    "clf_grid.fit(X_train, y_train)"
   ]
  },
  {
   "cell_type": "code",
   "execution_count": 75,
   "metadata": {},
   "outputs": [
    {
     "name": "stdout",
     "output_type": "stream",
     "text": [
      "Train Accuracy with Hyperparameter Optimizarion is is 0.7675\n",
      "Test Accuracy with Hyperparameter Optimizarion is is 0.85\n"
     ]
    }
   ],
   "source": [
    "print('Train Accuracy of Logistic with Hyperparameter Optimizarion is is {}'.format(clf_grid.score(X_train, y_train)))\n",
    "\n",
    "print('Test Accuracy of Logistic with Hyperparameter Optimizarion is is {}'.format(clf_grid.score(X_test, y_test)))"
   ]
  },
  {
   "cell_type": "code",
   "execution_count": 76,
   "metadata": {},
   "outputs": [
    {
     "data": {
      "text/plain": [
       "{'C': 0.03359818286283781, 'penalty': 'l1', 'solver': 'liblinear'}"
      ]
     },
     "execution_count": 76,
     "metadata": {},
     "output_type": "execute_result"
    }
   ],
   "source": [
    "clf_grid.best_params_"
   ]
  },
  {
   "cell_type": "code",
   "execution_count": 77,
   "metadata": {},
   "outputs": [],
   "source": [
    "y_pred_clf = clf_grid.predict(X_test)"
   ]
  },
  {
   "cell_type": "code",
   "execution_count": 78,
   "metadata": {},
   "outputs": [
    {
     "data": {
      "text/plain": [
       "array([[ 57,  29],\n",
       "       [  1, 113]], dtype=int64)"
      ]
     },
     "execution_count": 78,
     "metadata": {},
     "output_type": "execute_result"
    }
   ],
   "source": [
    "confusion_matrix(y_test, y_pred_clf)"
   ]
  },
  {
   "cell_type": "markdown",
   "metadata": {},
   "source": [
    "### Support Vector Classifier"
   ]
  },
  {
   "cell_type": "code",
   "execution_count": 79,
   "metadata": {},
   "outputs": [],
   "source": [
    "from sklearn.svm import SVC"
   ]
  },
  {
   "cell_type": "code",
   "execution_count": 80,
   "metadata": {},
   "outputs": [],
   "source": [
    "svc = SVC()"
   ]
  },
  {
   "cell_type": "code",
   "execution_count": 82,
   "metadata": {},
   "outputs": [],
   "source": [
    "params_grid_svc = {'kernel' : ['poly', 'rbf', 'sigmoid'], 'C' : [50, 10, 1.0, 0.1, 0.01], 'gamma' : ['scale']}"
   ]
  },
  {
   "cell_type": "code",
   "execution_count": 83,
   "metadata": {},
   "outputs": [],
   "source": [
    "svc_grid = GridSearchCV(estimator=svc, param_grid=params_grid_svc, n_jobs=-1, cv=5, scoring='accuracy',error_score=0)"
   ]
  },
  {
   "cell_type": "code",
   "execution_count": 84,
   "metadata": {},
   "outputs": [
    {
     "data": {
      "text/plain": [
       "GridSearchCV(cv=5, error_score=0, estimator=SVC(), n_jobs=-1,\n",
       "             param_grid={'C': [50, 10, 1.0, 0.1, 0.01], 'gamma': ['scale'],\n",
       "                         'kernel': ['poly', 'rbf', 'sigmoid']},\n",
       "             scoring='accuracy')"
      ]
     },
     "execution_count": 84,
     "metadata": {},
     "output_type": "execute_result"
    }
   ],
   "source": [
    "svc_grid.fit(X_train, y_train)"
   ]
  },
  {
   "cell_type": "code",
   "execution_count": 85,
   "metadata": {},
   "outputs": [
    {
     "name": "stdout",
     "output_type": "stream",
     "text": [
      "Train Accuracy with Hyperparameter Optimizarion is is 0.8025\n",
      "Test Accuracy with Hyperparameter Optimizarion is is 0.865\n"
     ]
    }
   ],
   "source": [
    "print('Train Accuracy of SVC with Hyperparameter Optimizarion is is {}'.format(svc_grid.score(X_train, y_train)))\n",
    "\n",
    "print('Test Accuracy of SVC with Hyperparameter Optimizarion is is {}'.format(svc_grid.score(X_test, y_test)))"
   ]
  },
  {
   "cell_type": "code",
   "execution_count": 87,
   "metadata": {},
   "outputs": [],
   "source": [
    "y_pred_svc = svc_grid.predict(X_test)"
   ]
  },
  {
   "cell_type": "code",
   "execution_count": 88,
   "metadata": {},
   "outputs": [
    {
     "data": {
      "text/plain": [
       "array([[ 62,  24],\n",
       "       [  3, 111]], dtype=int64)"
      ]
     },
     "execution_count": 88,
     "metadata": {},
     "output_type": "execute_result"
    }
   ],
   "source": [
    "confusion_matrix(y_test, y_pred_svc)"
   ]
  },
  {
   "cell_type": "code",
   "execution_count": 91,
   "metadata": {},
   "outputs": [
    {
     "name": "stdout",
     "output_type": "stream",
     "text": [
      "Note: you may need to restart the kernel to use updated packages.\n"
     ]
    }
   ],
   "source": [
    "pip freeze> requirements.txt"
   ]
  },
  {
   "cell_type": "markdown",
   "metadata": {},
   "source": [
    "### After doing Hyperparameter Optimization and using the Confusion Matrix, we can conclude that Random Forest Classifier is the best."
   ]
  },
  {
   "cell_type": "code",
   "execution_count": 90,
   "metadata": {},
   "outputs": [],
   "source": [
    "#Saving the model\n",
    "filename = 'finalized_model.pkl'\n",
    "pickle.dump(rf_grid, open(filename, 'wb'))"
   ]
  },
  {
   "cell_type": "code",
   "execution_count": null,
   "metadata": {},
   "outputs": [],
   "source": []
  }
 ],
 "metadata": {
  "kernelspec": {
   "display_name": "deeplearning",
   "language": "python",
   "name": "deeplearning"
  },
  "language_info": {
   "codemirror_mode": {
    "name": "ipython",
    "version": 3
   },
   "file_extension": ".py",
   "mimetype": "text/x-python",
   "name": "python",
   "nbconvert_exporter": "python",
   "pygments_lexer": "ipython3",
   "version": "3.6.12"
  }
 },
 "nbformat": 4,
 "nbformat_minor": 4
}
